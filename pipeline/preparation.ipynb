{
 "cells": [
  {
   "cell_type": "code",
   "execution_count": 1,
   "metadata": {},
   "outputs": [],
   "source": [
    "import pandas as pd"
   ]
  },
  {
   "cell_type": "code",
   "execution_count": 2,
   "metadata": {
    "pycharm": {
     "name": "#%%\n"
    }
   },
   "outputs": [],
   "source": [
    "ds = pd.read_csv('/data/Spotify_Youtube.csv', index_col=0)"
   ]
  },
  {
   "cell_type": "code",
   "execution_count": 3,
   "metadata": {
    "pycharm": {
     "name": "#%%\n"
    }
   },
   "outputs": [
    {
     "name": "stdout",
     "output_type": "stream",
     "text": [
      "<class 'pandas.core.frame.DataFrame'>\n",
      "Int64Index: 20718 entries, 0 to 20717\n",
      "Data columns (total 27 columns):\n",
      " #   Column            Non-Null Count  Dtype  \n",
      "---  ------            --------------  -----  \n",
      " 0   Artist            20718 non-null  object \n",
      " 1   Url_spotify       20718 non-null  object \n",
      " 2   Track             20718 non-null  object \n",
      " 3   Album             20718 non-null  object \n",
      " 4   Album_type        20718 non-null  object \n",
      " 5   Uri               20718 non-null  object \n",
      " 6   Danceability      20716 non-null  float64\n",
      " 7   Energy            20716 non-null  float64\n",
      " 8   Key               20716 non-null  float64\n",
      " 9   Loudness          20716 non-null  float64\n",
      " 10  Speechiness       20716 non-null  float64\n",
      " 11  Acousticness      20716 non-null  float64\n",
      " 12  Instrumentalness  20716 non-null  float64\n",
      " 13  Liveness          20716 non-null  float64\n",
      " 14  Valence           20716 non-null  float64\n",
      " 15  Tempo             20716 non-null  float64\n",
      " 16  Duration_ms       20716 non-null  float64\n",
      " 17  Url_youtube       20248 non-null  object \n",
      " 18  Title             20248 non-null  object \n",
      " 19  Channel           20248 non-null  object \n",
      " 20  Views             20248 non-null  float64\n",
      " 21  Likes             20177 non-null  float64\n",
      " 22  Comments          20149 non-null  float64\n",
      " 23  Description       19842 non-null  object \n",
      " 24  Licensed          20248 non-null  object \n",
      " 25  official_video    20248 non-null  object \n",
      " 26  Stream            20142 non-null  float64\n",
      "dtypes: float64(15), object(12)\n",
      "memory usage: 4.4+ MB\n"
     ]
    }
   ],
   "source": [
    "ds.isnull().sum()\n",
    "ds.info()"
   ]
  },
  {
   "cell_type": "code",
   "execution_count": 4,
   "metadata": {
    "pycharm": {
     "name": "#%%\n"
    }
   },
   "outputs": [
    {
     "name": "stdout",
     "output_type": "stream",
     "text": [
      "<class 'pandas.core.frame.DataFrame'>\n",
      "Int64Index: 19170 entries, 0 to 20717\n",
      "Data columns (total 27 columns):\n",
      " #   Column            Non-Null Count  Dtype  \n",
      "---  ------            --------------  -----  \n",
      " 0   Artist            19170 non-null  object \n",
      " 1   Url_spotify       19170 non-null  object \n",
      " 2   Track             19170 non-null  object \n",
      " 3   Album             19170 non-null  object \n",
      " 4   Album_type        19170 non-null  object \n",
      " 5   Uri               19170 non-null  object \n",
      " 6   Danceability      19170 non-null  float64\n",
      " 7   Energy            19170 non-null  float64\n",
      " 8   Key               19170 non-null  float64\n",
      " 9   Loudness          19170 non-null  float64\n",
      " 10  Speechiness       19170 non-null  float64\n",
      " 11  Acousticness      19170 non-null  float64\n",
      " 12  Instrumentalness  19170 non-null  float64\n",
      " 13  Liveness          19170 non-null  float64\n",
      " 14  Valence           19170 non-null  float64\n",
      " 15  Tempo             19170 non-null  float64\n",
      " 16  Duration_ms       19170 non-null  float64\n",
      " 17  Url_youtube       19170 non-null  object \n",
      " 18  Title             19170 non-null  object \n",
      " 19  Channel           19170 non-null  object \n",
      " 20  Views             19170 non-null  float64\n",
      " 21  Likes             19170 non-null  float64\n",
      " 22  Comments          19170 non-null  float64\n",
      " 23  Description       19170 non-null  object \n",
      " 24  Licensed          19170 non-null  object \n",
      " 25  official_video    19170 non-null  object \n",
      " 26  Stream            19170 non-null  float64\n",
      "dtypes: float64(15), object(12)\n",
      "memory usage: 4.1+ MB\n"
     ]
    }
   ],
   "source": [
    "ds.dropna(inplace=True)\n",
    "ds.info()"
   ]
  },
  {
   "cell_type": "code",
   "execution_count": 14,
   "metadata": {
    "pycharm": {
     "name": "#%%\n"
    }
   },
   "outputs": [
    {
     "data": {
      "text/plain": "                   Artist                                        Url_spotify  \\\n0                Gorillaz  https://open.spotify.com/artist/3AA28KZvwAUcZu...   \n10  Red Hot Chili Peppers  https://open.spotify.com/artist/0L8ExT028jH3dd...   \n20                50 Cent  https://open.spotify.com/artist/3q7HBObVc0L8jN...   \n33              Metallica  https://open.spotify.com/artist/2ye2Wgw4gimLv2...   \n47               Coldplay  https://open.spotify.com/artist/4gzpq5DPGxSnKT...   \n\n                   Track                             Album Album_type  \\\n0         Feel Good Inc.                        Demon Days      album   \n10       Californication  Californication (Deluxe Edition)      album   \n20            In Da Club            Get Rich Or Die Tryin'      album   \n33    Whiskey In The Jar                      Garage, Inc.      album   \n47  Hymn for the Weekend             A Head Full of Dreams      album   \n\n                                     Uri  Danceability  Energy   Key  \\\n0   spotify:track:0d28khcov6AiegSCpG5TuT         0.818   0.705   6.0   \n10  spotify:track:48UPSzbZjgc449aqz8bxox         0.592   0.767   9.0   \n20  spotify:track:4RY96Asd9IefaL3X4LOLZ8         0.902   0.720   6.0   \n33  spotify:track:3ZpWy5rBZv2aLQAldnmTsP         0.511   0.972  10.0   \n47  spotify:track:3RiPr603aXAoi4GHyXx0uy         0.491   0.693   0.0   \n\n    Loudness  ...         Views       Likes  Comments  \\\n0     -6.679  ...  6.935552e+08   6220896.0  169907.0   \n10    -2.788  ...  1.018811e+09   4394471.0  121452.0   \n20    -2.776  ...  1.682616e+09  10481678.0  296745.0   \n33    -3.751  ...  1.075534e+08    429797.0   12074.0   \n47    -6.487  ...  1.828242e+09  13515772.0  377666.0   \n\n                                          Description  Licensed  \\\n0   Official HD Video for Gorillaz' fantastic trac...      True   \n10  Watch the official music video for Californica...      True   \n20  CELEBRATING ONE BILLION VIEWS!!\\nREMASTERED IN...      True   \n33  “Whiskey In The Jar” by Metallica from the alb...     False   \n47  Coldplay - Hymn For The Weekend is taken from ...      True   \n\n    official_video        Stream Artist_encoded Album_encoded  \\\n0             True  1.040235e+09            675          2487   \n10            True  1.055738e+09           1526          1682   \n20            True  1.041737e+09             15          3766   \n33           False  3.276818e+08           1243          3733   \n47            True  1.049655e+09            375           299   \n\n   Album_type_encoded  \n0                   0  \n10                  0  \n20                  0  \n33                  0  \n47                  0  \n\n[5 rows x 30 columns]",
      "text/html": "<div>\n<style scoped>\n    .dataframe tbody tr th:only-of-type {\n        vertical-align: middle;\n    }\n\n    .dataframe tbody tr th {\n        vertical-align: top;\n    }\n\n    .dataframe thead th {\n        text-align: right;\n    }\n</style>\n<table border=\"1\" class=\"dataframe\">\n  <thead>\n    <tr style=\"text-align: right;\">\n      <th></th>\n      <th>Artist</th>\n      <th>Url_spotify</th>\n      <th>Track</th>\n      <th>Album</th>\n      <th>Album_type</th>\n      <th>Uri</th>\n      <th>Danceability</th>\n      <th>Energy</th>\n      <th>Key</th>\n      <th>Loudness</th>\n      <th>...</th>\n      <th>Views</th>\n      <th>Likes</th>\n      <th>Comments</th>\n      <th>Description</th>\n      <th>Licensed</th>\n      <th>official_video</th>\n      <th>Stream</th>\n      <th>Artist_encoded</th>\n      <th>Album_encoded</th>\n      <th>Album_type_encoded</th>\n    </tr>\n  </thead>\n  <tbody>\n    <tr>\n      <th>0</th>\n      <td>Gorillaz</td>\n      <td>https://open.spotify.com/artist/3AA28KZvwAUcZu...</td>\n      <td>Feel Good Inc.</td>\n      <td>Demon Days</td>\n      <td>album</td>\n      <td>spotify:track:0d28khcov6AiegSCpG5TuT</td>\n      <td>0.818</td>\n      <td>0.705</td>\n      <td>6.0</td>\n      <td>-6.679</td>\n      <td>...</td>\n      <td>6.935552e+08</td>\n      <td>6220896.0</td>\n      <td>169907.0</td>\n      <td>Official HD Video for Gorillaz' fantastic trac...</td>\n      <td>True</td>\n      <td>True</td>\n      <td>1.040235e+09</td>\n      <td>675</td>\n      <td>2487</td>\n      <td>0</td>\n    </tr>\n    <tr>\n      <th>10</th>\n      <td>Red Hot Chili Peppers</td>\n      <td>https://open.spotify.com/artist/0L8ExT028jH3dd...</td>\n      <td>Californication</td>\n      <td>Californication (Deluxe Edition)</td>\n      <td>album</td>\n      <td>spotify:track:48UPSzbZjgc449aqz8bxox</td>\n      <td>0.592</td>\n      <td>0.767</td>\n      <td>9.0</td>\n      <td>-2.788</td>\n      <td>...</td>\n      <td>1.018811e+09</td>\n      <td>4394471.0</td>\n      <td>121452.0</td>\n      <td>Watch the official music video for Californica...</td>\n      <td>True</td>\n      <td>True</td>\n      <td>1.055738e+09</td>\n      <td>1526</td>\n      <td>1682</td>\n      <td>0</td>\n    </tr>\n    <tr>\n      <th>20</th>\n      <td>50 Cent</td>\n      <td>https://open.spotify.com/artist/3q7HBObVc0L8jN...</td>\n      <td>In Da Club</td>\n      <td>Get Rich Or Die Tryin'</td>\n      <td>album</td>\n      <td>spotify:track:4RY96Asd9IefaL3X4LOLZ8</td>\n      <td>0.902</td>\n      <td>0.720</td>\n      <td>6.0</td>\n      <td>-2.776</td>\n      <td>...</td>\n      <td>1.682616e+09</td>\n      <td>10481678.0</td>\n      <td>296745.0</td>\n      <td>CELEBRATING ONE BILLION VIEWS!!\\nREMASTERED IN...</td>\n      <td>True</td>\n      <td>True</td>\n      <td>1.041737e+09</td>\n      <td>15</td>\n      <td>3766</td>\n      <td>0</td>\n    </tr>\n    <tr>\n      <th>33</th>\n      <td>Metallica</td>\n      <td>https://open.spotify.com/artist/2ye2Wgw4gimLv2...</td>\n      <td>Whiskey In The Jar</td>\n      <td>Garage, Inc.</td>\n      <td>album</td>\n      <td>spotify:track:3ZpWy5rBZv2aLQAldnmTsP</td>\n      <td>0.511</td>\n      <td>0.972</td>\n      <td>10.0</td>\n      <td>-3.751</td>\n      <td>...</td>\n      <td>1.075534e+08</td>\n      <td>429797.0</td>\n      <td>12074.0</td>\n      <td>“Whiskey In The Jar” by Metallica from the alb...</td>\n      <td>False</td>\n      <td>False</td>\n      <td>3.276818e+08</td>\n      <td>1243</td>\n      <td>3733</td>\n      <td>0</td>\n    </tr>\n    <tr>\n      <th>47</th>\n      <td>Coldplay</td>\n      <td>https://open.spotify.com/artist/4gzpq5DPGxSnKT...</td>\n      <td>Hymn for the Weekend</td>\n      <td>A Head Full of Dreams</td>\n      <td>album</td>\n      <td>spotify:track:3RiPr603aXAoi4GHyXx0uy</td>\n      <td>0.491</td>\n      <td>0.693</td>\n      <td>0.0</td>\n      <td>-6.487</td>\n      <td>...</td>\n      <td>1.828242e+09</td>\n      <td>13515772.0</td>\n      <td>377666.0</td>\n      <td>Coldplay - Hymn For The Weekend is taken from ...</td>\n      <td>True</td>\n      <td>True</td>\n      <td>1.049655e+09</td>\n      <td>375</td>\n      <td>299</td>\n      <td>0</td>\n    </tr>\n  </tbody>\n</table>\n<p>5 rows × 30 columns</p>\n</div>"
     },
     "execution_count": 14,
     "metadata": {},
     "output_type": "execute_result"
    }
   ],
   "source": [
    "from sklearn.preprocessing import LabelEncoder\n",
    "# Список назв колонок для кодування\n",
    "columns_to_encode = ['Artist', 'Album', 'Album_type']\n",
    "# Створення екземпляра LabelEncoder\n",
    "label_encoder = LabelEncoder()\n",
    "# Застосування Label Encoding за допомогою циклу\n",
    "for column in columns_to_encode:\n",
    "    ds[column + '_encoded'] = label_encoder.fit_transform(ds[column])\n",
    "\n",
    "output = ds.iloc[::10]\n",
    "output.head(5)"
   ]
  },
  {
   "cell_type": "code",
   "execution_count": 17,
   "outputs": [
    {
     "name": "stdout",
     "output_type": "stream",
     "text": [
      "Розмір тренувальної вибірки: 15336\n",
      "Розмір тестової вибірки: 3834\n"
     ]
    }
   ],
   "source": [
    "from sklearn.model_selection import train_test_split\n",
    "\n",
    "# Розділення датасету на вибірки\n",
    "train_data, test_data = train_test_split(ds, test_size=0.2, random_state=42)\n",
    "\n",
    "# Перевірка розмірів вибірок\n",
    "print(\"Розмір тренувальної вибірки:\", len(train_data))\n",
    "print(\"Розмір тестової вибірки:\", len(test_data))\n",
    "\n",
    "# Збереження вибірок у .csv файлах\n",
    "train_data.to_csv(\"/data/spotify_data_train.csv\", index=True)\n",
    "test_data.to_csv(\"/data/spotify_data_test.csv\", index=True)\n"
   ],
   "metadata": {
    "collapsed": false,
    "pycharm": {
     "name": "#%%\n"
    }
   }
  },
  {
   "cell_type": "code",
   "execution_count": null,
   "outputs": [],
   "source": [],
   "metadata": {
    "collapsed": false,
    "pycharm": {
     "name": "#%%\n"
    }
   }
  }
 ],
 "metadata": {
  "kernelspec": {
   "display_name": "Python 3 (ipykernel)",
   "language": "python",
   "name": "python3"
  },
  "language_info": {
   "codemirror_mode": {
    "name": "ipython",
    "version": 3
   },
   "file_extension": ".py",
   "mimetype": "text/x-python",
   "name": "python",
   "nbconvert_exporter": "python",
   "pygments_lexer": "ipython3",
   "version": "3.9.4"
  }
 },
 "nbformat": 4,
 "nbformat_minor": 1
}