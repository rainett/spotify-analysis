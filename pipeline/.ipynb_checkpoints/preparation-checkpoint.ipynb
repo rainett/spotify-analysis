{
 "cells": [
  {
   "cell_type": "code",
   "execution_count": 1,
   "metadata": {
    "pycharm": {
     "is_executing": true
    }
   },
   "outputs": [],
   "source": [
    "import pandas as pd"
   ]
  },
  {
   "cell_type": "code",
   "execution_count": 2,
   "metadata": {
    "pycharm": {
     "name": "#%%\n"
    }
   },
   "outputs": [],
   "source": [
    "ds = pd.read_csv('/Users/pavlokoval/Documents/Лаби/ітсс/курсова/spotify-analysis/data/Spotify_Youtube.csv', index_col=0)"
   ]
  },
  {
   "cell_type": "code",
   "execution_count": 3,
   "metadata": {
    "pycharm": {
     "name": "#%%\n"
    }
   },
   "outputs": [
    {
     "name": "stdout",
     "output_type": "stream",
     "text": [
      "<class 'pandas.core.frame.DataFrame'>\n",
      "Int64Index: 20718 entries, 0 to 20717\n",
      "Data columns (total 27 columns):\n",
      " #   Column            Non-Null Count  Dtype  \n",
      "---  ------            --------------  -----  \n",
      " 0   Artist            20718 non-null  object \n",
      " 1   Url_spotify       20718 non-null  object \n",
      " 2   Track             20718 non-null  object \n",
      " 3   Album             20718 non-null  object \n",
      " 4   Album_type        20718 non-null  object \n",
      " 5   Uri               20718 non-null  object \n",
      " 6   Danceability      20716 non-null  float64\n",
      " 7   Energy            20716 non-null  float64\n",
      " 8   Key               20716 non-null  float64\n",
      " 9   Loudness          20716 non-null  float64\n",
      " 10  Speechiness       20716 non-null  float64\n",
      " 11  Acousticness      20716 non-null  float64\n",
      " 12  Instrumentalness  20716 non-null  float64\n",
      " 13  Liveness          20716 non-null  float64\n",
      " 14  Valence           20716 non-null  float64\n",
      " 15  Tempo             20716 non-null  float64\n",
      " 16  Duration_ms       20716 non-null  float64\n",
      " 17  Url_youtube       20248 non-null  object \n",
      " 18  Title             20248 non-null  object \n",
      " 19  Channel           20248 non-null  object \n",
      " 20  Views             20248 non-null  float64\n",
      " 21  Likes             20177 non-null  float64\n",
      " 22  Comments          20149 non-null  float64\n",
      " 23  Description       19842 non-null  object \n",
      " 24  Licensed          20248 non-null  object \n",
      " 25  official_video    20248 non-null  object \n",
      " 26  Stream            20142 non-null  float64\n",
      "dtypes: float64(15), object(12)\n",
      "memory usage: 4.4+ MB\n"
     ]
    }
   ],
   "source": [
    "ds.isnull().sum()\n",
    "ds.info()"
   ]
  },
  {
   "cell_type": "code",
   "execution_count": 4,
   "metadata": {
    "pycharm": {
     "name": "#%%\n"
    }
   },
   "outputs": [
    {
     "name": "stdout",
     "output_type": "stream",
     "text": [
      "<class 'pandas.core.frame.DataFrame'>\n",
      "Int64Index: 19170 entries, 0 to 20717\n",
      "Data columns (total 27 columns):\n",
      " #   Column            Non-Null Count  Dtype  \n",
      "---  ------            --------------  -----  \n",
      " 0   Artist            19170 non-null  object \n",
      " 1   Url_spotify       19170 non-null  object \n",
      " 2   Track             19170 non-null  object \n",
      " 3   Album             19170 non-null  object \n",
      " 4   Album_type        19170 non-null  object \n",
      " 5   Uri               19170 non-null  object \n",
      " 6   Danceability      19170 non-null  float64\n",
      " 7   Energy            19170 non-null  float64\n",
      " 8   Key               19170 non-null  float64\n",
      " 9   Loudness          19170 non-null  float64\n",
      " 10  Speechiness       19170 non-null  float64\n",
      " 11  Acousticness      19170 non-null  float64\n",
      " 12  Instrumentalness  19170 non-null  float64\n",
      " 13  Liveness          19170 non-null  float64\n",
      " 14  Valence           19170 non-null  float64\n",
      " 15  Tempo             19170 non-null  float64\n",
      " 16  Duration_ms       19170 non-null  float64\n",
      " 17  Url_youtube       19170 non-null  object \n",
      " 18  Title             19170 non-null  object \n",
      " 19  Channel           19170 non-null  object \n",
      " 20  Views             19170 non-null  float64\n",
      " 21  Likes             19170 non-null  float64\n",
      " 22  Comments          19170 non-null  float64\n",
      " 23  Description       19170 non-null  object \n",
      " 24  Licensed          19170 non-null  object \n",
      " 25  official_video    19170 non-null  object \n",
      " 26  Stream            19170 non-null  float64\n",
      "dtypes: float64(15), object(12)\n",
      "memory usage: 4.1+ MB\n"
     ]
    }
   ],
   "source": [
    "ds.dropna(inplace=True)\n",
    "ds.info()"
   ]
  },
  {
   "cell_type": "code",
   "execution_count": null,
   "metadata": {
    "pycharm": {
     "name": "#%%\n"
    }
   },
   "outputs": [],
   "source": []
  }
 ],
 "metadata": {
  "kernelspec": {
   "display_name": "Python 3 (ipykernel)",
   "language": "python",
   "name": "python3"
  },
  "language_info": {
   "codemirror_mode": {
    "name": "ipython",
    "version": 3
   },
   "file_extension": ".py",
   "mimetype": "text/x-python",
   "name": "python",
   "nbconvert_exporter": "python",
   "pygments_lexer": "ipython3",
   "version": "3.9.4"
  }
 },
 "nbformat": 4,
 "nbformat_minor": 1
}
