{
 "cells": [
  {
   "cell_type": "code",
   "execution_count": 18,
   "metadata": {
    "collapsed": true
   },
   "outputs": [],
   "source": [
    "import pandas as pd\n",
    "import pickle\n",
    "from sklearn.ensemble import RandomForestRegressor"
   ]
  },
  {
   "cell_type": "code",
   "execution_count": 19,
   "outputs": [
    {
     "data": {
      "text/plain": "                 Artist                                        Url_spotify  \\\n16630             Ozuna  https://open.spotify.com/artist/1i8SpTcr7yvPOm...   \n15211  Shashaa Tirupati  https://open.spotify.com/artist/12CpR4SNDzVIlD...   \n11276      Billy Talent  https://open.spotify.com/artist/08yf5A2nS4XEeN...   \n13023          J Balvin  https://open.spotify.com/artist/1vyhD5VmyZ7KMf...   \n4591       Bonnie Tyler  https://open.spotify.com/artist/0SD4eZCN4Kr0wQ...   \n\n                                     Track  \\\n16630                                Diles   \n15211  Bodhai Kaname - From \"Oh Manapenne\"   \n11276                            Surrender   \n13023                            I Like It   \n4591          Have You Ever Seen the Rain?   \n\n                                     Album Album_type  \\\n16630                                Diles     single   \n15211  Bodhai Kaname (From \"Oh Manapenne\")     single   \n11276                      Billy Talent II      album   \n13023                  Invasion of Privacy      album   \n4591        Faster Than the Speed of Night      album   \n\n                                        Uri  Danceability  Energy  Key  \\\n16630  spotify:track:6C1RD7YQVvt3YQj0CmuTeu         0.813   0.560  2.0   \n15211  spotify:track:4qIMmEjV8gaEsfZML9LALx         0.516   0.405  7.0   \n11276  spotify:track:1DeaByFASTvBxtYANOyFXy         0.622   0.933  9.0   \n13023  spotify:track:58q2HKrzhC3ozto2nDdN4z         0.816   0.726  5.0   \n4591   spotify:track:2ZmMvjrJNTWsbAFScnPHbm         0.545   0.702  4.0   \n\n       Loudness  ...         Views       Likes  Comments  \\\n16630    -5.904  ...  9.863890e+08   3786962.0   81763.0   \n15211   -12.327  ...  1.879494e+07    136549.0    1769.0   \n11276    -3.277  ...  5.611126e+06     39070.0    1394.0   \n13023    -3.998  ...  1.524946e+09  10304827.0  315894.0   \n4591    -12.182  ...  5.666662e+06     33126.0     918.0   \n\n                                             Description  Licensed  \\\n16630  Diles - Bad Bunny, Ozuna, Farruko, Arcangel, Ñ...      True   \n15211  #OhManapenne | #BodhaiKaname Video Song | #Ani...      True   \n11276  From the album \"Billy Talent II\".\\n\\nAvailable...      True   \n13023  Cardi B, Bad Bunny & J Balvin - I Like It from...      True   \n4591   Bonnie Tyler's official music video for 'Have ...      True   \n\n       official_video        Stream Artist_encoded Album_encoded  \\\n16630            True  6.284248e+08           1404          2606   \n15211            True  2.632915e+07           1641          1451   \n11276            True  4.981235e+07            205          1344   \n13023            True  1.456861e+09            780          4725   \n4591             True  8.515383e+06            235          3391   \n\n      Album_type_encoded  \n16630                  2  \n15211                  2  \n11276                  0  \n13023                  0  \n4591                   0  \n\n[5 rows x 30 columns]",
      "text/html": "<div>\n<style scoped>\n    .dataframe tbody tr th:only-of-type {\n        vertical-align: middle;\n    }\n\n    .dataframe tbody tr th {\n        vertical-align: top;\n    }\n\n    .dataframe thead th {\n        text-align: right;\n    }\n</style>\n<table border=\"1\" class=\"dataframe\">\n  <thead>\n    <tr style=\"text-align: right;\">\n      <th></th>\n      <th>Artist</th>\n      <th>Url_spotify</th>\n      <th>Track</th>\n      <th>Album</th>\n      <th>Album_type</th>\n      <th>Uri</th>\n      <th>Danceability</th>\n      <th>Energy</th>\n      <th>Key</th>\n      <th>Loudness</th>\n      <th>...</th>\n      <th>Views</th>\n      <th>Likes</th>\n      <th>Comments</th>\n      <th>Description</th>\n      <th>Licensed</th>\n      <th>official_video</th>\n      <th>Stream</th>\n      <th>Artist_encoded</th>\n      <th>Album_encoded</th>\n      <th>Album_type_encoded</th>\n    </tr>\n  </thead>\n  <tbody>\n    <tr>\n      <th>16630</th>\n      <td>Ozuna</td>\n      <td>https://open.spotify.com/artist/1i8SpTcr7yvPOm...</td>\n      <td>Diles</td>\n      <td>Diles</td>\n      <td>single</td>\n      <td>spotify:track:6C1RD7YQVvt3YQj0CmuTeu</td>\n      <td>0.813</td>\n      <td>0.560</td>\n      <td>2.0</td>\n      <td>-5.904</td>\n      <td>...</td>\n      <td>9.863890e+08</td>\n      <td>3786962.0</td>\n      <td>81763.0</td>\n      <td>Diles - Bad Bunny, Ozuna, Farruko, Arcangel, Ñ...</td>\n      <td>True</td>\n      <td>True</td>\n      <td>6.284248e+08</td>\n      <td>1404</td>\n      <td>2606</td>\n      <td>2</td>\n    </tr>\n    <tr>\n      <th>15211</th>\n      <td>Shashaa Tirupati</td>\n      <td>https://open.spotify.com/artist/12CpR4SNDzVIlD...</td>\n      <td>Bodhai Kaname - From \"Oh Manapenne\"</td>\n      <td>Bodhai Kaname (From \"Oh Manapenne\")</td>\n      <td>single</td>\n      <td>spotify:track:4qIMmEjV8gaEsfZML9LALx</td>\n      <td>0.516</td>\n      <td>0.405</td>\n      <td>7.0</td>\n      <td>-12.327</td>\n      <td>...</td>\n      <td>1.879494e+07</td>\n      <td>136549.0</td>\n      <td>1769.0</td>\n      <td>#OhManapenne | #BodhaiKaname Video Song | #Ani...</td>\n      <td>True</td>\n      <td>True</td>\n      <td>2.632915e+07</td>\n      <td>1641</td>\n      <td>1451</td>\n      <td>2</td>\n    </tr>\n    <tr>\n      <th>11276</th>\n      <td>Billy Talent</td>\n      <td>https://open.spotify.com/artist/08yf5A2nS4XEeN...</td>\n      <td>Surrender</td>\n      <td>Billy Talent II</td>\n      <td>album</td>\n      <td>spotify:track:1DeaByFASTvBxtYANOyFXy</td>\n      <td>0.622</td>\n      <td>0.933</td>\n      <td>9.0</td>\n      <td>-3.277</td>\n      <td>...</td>\n      <td>5.611126e+06</td>\n      <td>39070.0</td>\n      <td>1394.0</td>\n      <td>From the album \"Billy Talent II\".\\n\\nAvailable...</td>\n      <td>True</td>\n      <td>True</td>\n      <td>4.981235e+07</td>\n      <td>205</td>\n      <td>1344</td>\n      <td>0</td>\n    </tr>\n    <tr>\n      <th>13023</th>\n      <td>J Balvin</td>\n      <td>https://open.spotify.com/artist/1vyhD5VmyZ7KMf...</td>\n      <td>I Like It</td>\n      <td>Invasion of Privacy</td>\n      <td>album</td>\n      <td>spotify:track:58q2HKrzhC3ozto2nDdN4z</td>\n      <td>0.816</td>\n      <td>0.726</td>\n      <td>5.0</td>\n      <td>-3.998</td>\n      <td>...</td>\n      <td>1.524946e+09</td>\n      <td>10304827.0</td>\n      <td>315894.0</td>\n      <td>Cardi B, Bad Bunny &amp; J Balvin - I Like It from...</td>\n      <td>True</td>\n      <td>True</td>\n      <td>1.456861e+09</td>\n      <td>780</td>\n      <td>4725</td>\n      <td>0</td>\n    </tr>\n    <tr>\n      <th>4591</th>\n      <td>Bonnie Tyler</td>\n      <td>https://open.spotify.com/artist/0SD4eZCN4Kr0wQ...</td>\n      <td>Have You Ever Seen the Rain?</td>\n      <td>Faster Than the Speed of Night</td>\n      <td>album</td>\n      <td>spotify:track:2ZmMvjrJNTWsbAFScnPHbm</td>\n      <td>0.545</td>\n      <td>0.702</td>\n      <td>4.0</td>\n      <td>-12.182</td>\n      <td>...</td>\n      <td>5.666662e+06</td>\n      <td>33126.0</td>\n      <td>918.0</td>\n      <td>Bonnie Tyler's official music video for 'Have ...</td>\n      <td>True</td>\n      <td>True</td>\n      <td>8.515383e+06</td>\n      <td>235</td>\n      <td>3391</td>\n      <td>0</td>\n    </tr>\n  </tbody>\n</table>\n<p>5 rows × 30 columns</p>\n</div>"
     },
     "execution_count": 19,
     "metadata": {},
     "output_type": "execute_result"
    }
   ],
   "source": [
    "train_ds = pd.read_csv('/data/spotify_data_train.csv', index_col=0)\n",
    "train_ds.head()"
   ],
   "metadata": {
    "collapsed": false,
    "pycharm": {
     "name": "#%%\n"
    }
   }
  },
  {
   "cell_type": "code",
   "execution_count": 20,
   "outputs": [],
   "source": [
    "y_column = 'Stream'\n",
    "X_columns = ['Artist_encoded', 'Album_encoded', 'Album_type_encoded', 'Danceability', 'Energy', 'Key',\n",
    "             'Loudness', 'Speechiness', 'Acousticness', 'Instrumentalness', 'Liveness',\n",
    "             'Valence', 'Tempo', 'Duration_ms']\n",
    "X_train = train_ds[X_columns]\n",
    "y_train = train_ds[y_column]"
   ],
   "metadata": {
    "collapsed": false,
    "pycharm": {
     "name": "#%%\n"
    }
   }
  },
  {
   "cell_type": "code",
   "execution_count": 21,
   "outputs": [],
   "source": [
    "model = RandomForestRegressor(n_estimators=800, max_depth=40,\n",
    "                              max_features=2, min_samples_leaf=1,\n",
    "                              min_samples_split=2)\n",
    "model.fit(X_train, y_train)\n",
    "with open('/models/model.pkl', 'wb') as file:\n",
    "    pickle.dump(model, file)"
   ],
   "metadata": {
    "collapsed": false,
    "pycharm": {
     "name": "#%%\n"
    }
   }
  },
  {
   "cell_type": "code",
   "execution_count": 21,
   "outputs": [],
   "source": [],
   "metadata": {
    "collapsed": false,
    "pycharm": {
     "name": "#%%\n"
    }
   }
  }
 ],
 "metadata": {
  "kernelspec": {
   "display_name": "Python 3",
   "language": "python",
   "name": "python3"
  },
  "language_info": {
   "codemirror_mode": {
    "name": "ipython",
    "version": 2
   },
   "file_extension": ".py",
   "mimetype": "text/x-python",
   "name": "python",
   "nbconvert_exporter": "python",
   "pygments_lexer": "ipython2",
   "version": "2.7.6"
  }
 },
 "nbformat": 4,
 "nbformat_minor": 0
}